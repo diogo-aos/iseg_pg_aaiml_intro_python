{
 "cells": [
  {
   "cell_type": "markdown",
   "id": "a7666b86-fa53-408c-86c4-ffc53fe6a1c5",
   "metadata": {},
   "source": [
    "# Python modules"
   ]
  },
  {
   "cell_type": "markdown",
   "id": "4e126499-71c6-407b-b85b-5a03664d9d6b",
   "metadata": {},
   "source": [
    "## Creating, importing"
   ]
  },
  {
   "cell_type": "markdown",
   "id": "d5d60c7f-faaf-4ab1-ad94-cfb562aa2fe6",
   "metadata": {},
   "source": [
    "We can create module by simply creating a file with the .py extension (don't use spaces in the name).\n",
    "\n",
    "Let's create a `products.py` file.\n",
    "\n",
    "⚠️⚠️ **The file must be in the same folder as the Jupyter Notebook.** ⚠️⚠️\n",
    "\n",
    "Inside, let's write a list for the valid product categories.\n",
    "\n",
    "```python\n",
    "valid_categories = [\n",
    "    \"vegetable\",\n",
    "    \"fruit\",\n",
    "    \"pet\",\n",
    "    \"house\",\n",
    "    \"bread\",\n",
    "    \"cleaning\"\n",
    "]\n",
    "```\n",
    "\n",
    "Save the file.\n",
    "\n",
    "We can now import that module into our notebook!"
   ]
  },
  {
   "cell_type": "code",
   "execution_count": 5,
   "id": "33fd539a-6185-48c7-9a48-4b6eceea251f",
   "metadata": {},
   "outputs": [],
   "source": [
    "import products"
   ]
  },
  {
   "cell_type": "code",
   "execution_count": 10,
   "id": "051b34ee-19c6-48c7-8204-f9f92a207c93",
   "metadata": {},
   "outputs": [
    {
     "data": {
      "text/plain": [
       "['vegetable', 'fruit', 'pet', 'house', 'bread', 'cleaning']"
      ]
     },
     "execution_count": 10,
     "metadata": {},
     "output_type": "execute_result"
    }
   ],
   "source": [
    "products.valid_categories"
   ]
  },
  {
   "cell_type": "markdown",
   "id": "87dd6a83-1523-4676-9dde-b51d26606f9f",
   "metadata": {},
   "source": [
    "Let's go back to our module and add coffee to the category list:\n",
    "```python\n",
    "valid_categories = [\n",
    "    \"vegetable\",\n",
    "    \"fruit\",\n",
    "    \"pet\",\n",
    "    \"house\",\n",
    "    \"bread\",\n",
    "    \"cleaning\",\n",
    "    \"coffee\",\n",
    "]\n",
    "```\n",
    "\n",
    "Save the file.\n",
    "\n",
    "Now check again, here, the values of the valid_categories."
   ]
  },
  {
   "cell_type": "code",
   "execution_count": 11,
   "id": "71a70fb4-85dd-47a7-a079-364038e59f1c",
   "metadata": {},
   "outputs": [
    {
     "data": {
      "text/plain": [
       "['vegetable', 'fruit', 'pet', 'house', 'bread', 'cleaning']"
      ]
     },
     "execution_count": 11,
     "metadata": {},
     "output_type": "execute_result"
    }
   ],
   "source": [
    "products.valid_categories"
   ]
  },
  {
   "cell_type": "markdown",
   "id": "34ba0915-bc99-4c8a-88ce-a377591d3685",
   "metadata": {},
   "source": [
    "## Reloading"
   ]
  },
  {
   "cell_type": "markdown",
   "id": "60157a7e-57f6-42cb-a8b2-e5eb85a5f690",
   "metadata": {},
   "source": [
    "As you can see, the new category does not appear in our notebook.\n",
    "\n",
    "The change we did was after we imported the module. We can try to run `import products` again, but that won't work, because Python detects we've already imported that module, and, to save on computation, it does nothing.\n",
    "\n",
    "To fix this, we'd have to reload the Notebook kernel (Kernel > Restart Kernek...). This means losing all variables we've loaded and computations.\n",
    "\n",
    "An alternative is to use the importlib which allows us to reimport a given module. That allows us to get the updated module without restarting the kernel."
   ]
  },
  {
   "cell_type": "code",
   "execution_count": 16,
   "id": "382aa631-b9bb-4a4e-89c2-fb00925547d8",
   "metadata": {},
   "outputs": [
    {
     "data": {
      "text/plain": [
       "<module 'products' from 'C:\\\\Users\\\\DASilva\\\\Documents\\\\GitHub\\\\diogoaos\\\\content\\\\slides\\\\iseg_python\\\\code\\\\lesson3\\\\products.py'>"
      ]
     },
     "execution_count": 16,
     "metadata": {},
     "output_type": "execute_result"
    }
   ],
   "source": [
    "import importlib\n",
    "importlib.reload(products)"
   ]
  },
  {
   "cell_type": "code",
   "execution_count": 17,
   "id": "dbd8c51c-913a-4fad-8605-fb31f17c4528",
   "metadata": {},
   "outputs": [
    {
     "data": {
      "text/plain": [
       "['vegetable', 'fruit', 'pet', 'house', 'bread', 'cleaning', 'coffee']"
      ]
     },
     "execution_count": 17,
     "metadata": {},
     "output_type": "execute_result"
    }
   ],
   "source": [
    "products.valid_categories"
   ]
  },
  {
   "cell_type": "markdown",
   "id": "94273cc2-c143-456e-992c-fd838e531b4c",
   "metadata": {},
   "source": [
    "## Creating fake data"
   ]
  },
  {
   "cell_type": "markdown",
   "id": "04a95d31-6562-4c44-a06c-46820f2d7d5b",
   "metadata": {},
   "source": [
    "Let's create some made up transactions for a day."
   ]
  },
  {
   "cell_type": "code",
   "execution_count": 3,
   "id": "d1529045-e004-4458-bb6c-6d00f18f8549",
   "metadata": {},
   "outputs": [
    {
     "ename": "NameError",
     "evalue": "name 'products' is not defined",
     "output_type": "error",
     "traceback": [
      "\u001b[1;31m-------------------------------\u001b[0m",
      "\u001b[1;31mNameError\u001b[0mTraceback (most recent call last)",
      "\u001b[1;32m~\\AppData\\Local\\Temp\\ipykernel_15280\\2906674408.py\u001b[0m in \u001b[0;36m<module>\u001b[1;34m\u001b[0m\n\u001b[0;32m      6\u001b[0m transaction_prices = [round(random.random() * random.randint(min_price,max_price), 2)\n\u001b[0;32m      7\u001b[0m                       for i in range(n_transactions)]\n\u001b[1;32m----> 8\u001b[1;33m \u001b[0mtransaction_categories\u001b[0m \u001b[1;33m=\u001b[0m \u001b[0mrandom\u001b[0m\u001b[1;33m.\u001b[0m\u001b[0mchoices\u001b[0m\u001b[1;33m(\u001b[0m\u001b[0mproducts\u001b[0m\u001b[1;33m.\u001b[0m\u001b[0mvalid_categories\u001b[0m\u001b[1;33m,\u001b[0m \u001b[0mk\u001b[0m\u001b[1;33m=\u001b[0m\u001b[0mn_transactions\u001b[0m\u001b[1;33m)\u001b[0m\u001b[1;33m\u001b[0m\u001b[1;33m\u001b[0m\u001b[0m\n\u001b[0m\u001b[0;32m      9\u001b[0m \u001b[0mtransactions\u001b[0m \u001b[1;33m=\u001b[0m \u001b[0mlist\u001b[0m\u001b[1;33m(\u001b[0m\u001b[0mzip\u001b[0m\u001b[1;33m(\u001b[0m\u001b[0mtransaction_prices\u001b[0m\u001b[1;33m,\u001b[0m \u001b[0mtransaction_categories\u001b[0m\u001b[1;33m)\u001b[0m\u001b[1;33m)\u001b[0m\u001b[1;33m\u001b[0m\u001b[1;33m\u001b[0m\u001b[0m\n",
      "\u001b[1;31mNameError\u001b[0m: name 'products' is not defined"
     ]
    }
   ],
   "source": [
    "import random\n",
    "\n",
    "# transactions\n",
    "n_transactions = 200\n",
    "min_price, max_price = 2, 50\n",
    "transaction_prices = [round(random.random() * random.randint(min_price,max_price), 2)\n",
    "                      for i in range(n_transactions)]\n",
    "transaction_categories = random.choices(products.valid_categories, k=n_transactions)\n",
    "transactions = list(zip(transaction_prices, transaction_categories))"
   ]
  },
  {
   "cell_type": "code",
   "execution_count": 66,
   "id": "8f587650-3408-478e-a48c-bfaf4a9e9667",
   "metadata": {},
   "outputs": [
    {
     "data": {
      "text/plain": [
       "[(1.67, 'pet'),\n",
       " (38.9, 'vegetable'),\n",
       " (9.27, 'fruit'),\n",
       " (19.78, 'cleaning'),\n",
       " (4.31, 'bread'),\n",
       " (20.98, 'bread'),\n",
       " (1.62, 'bread'),\n",
       " (2.63, 'coffee'),\n",
       " (1.06, 'bread'),\n",
       " (2.97, 'house'),\n",
       " (2.66, 'house'),\n",
       " (2.2, 'pet'),\n",
       " (2.9, 'coffee'),\n",
       " (1.7, 'house'),\n",
       " (3.81, 'cleaning'),\n",
       " (5.63, 'fruit'),\n",
       " (2.65, 'house'),\n",
       " (0.62, 'house'),\n",
       " (35.82, 'pet'),\n",
       " (7.32, 'fruit')]"
      ]
     },
     "execution_count": 66,
     "metadata": {},
     "output_type": "execute_result"
    }
   ],
   "source": [
    "# let's see part of the result\n",
    "transactions[:20]"
   ]
  },
  {
   "cell_type": "markdown",
   "id": "53e907df-5b9a-4472-be4c-00deb0c4d06f",
   "metadata": {},
   "source": [
    "## Should we have more house products?\n",
    "\n",
    "To answer this question, let's compute the percentage of revenue that comes from \"house\" transactions."
   ]
  },
  {
   "cell_type": "code",
   "execution_count": 48,
   "id": "404a7100-5481-496d-bc9d-9940be9e01af",
   "metadata": {},
   "outputs": [
    {
     "name": "stdout",
     "output_type": "stream",
     "text": [
      "day_revenue=2358.4700000000025\n",
      "house_revenue=467.90999999999985\n",
      "19.8% of revenue comes from transactions of category house\n"
     ]
    }
   ],
   "source": [
    "day_revenue = sum([p for p,c in transactions])\n",
    "print(f\"day_revenue={day_revenue}\")\n",
    "\n",
    "house_revenue = sum([p for p,c in transactions if c == \"house\"])\n",
    "print(f\"house_revenue={house_revenue}\")\n",
    "\n",
    "house_percent = house_revenue / day_revenue * 100\n",
    "\n",
    "print(f\"{house_percent :.1f}% of revenue comes from transactions of category house\")"
   ]
  },
  {
   "cell_type": "markdown",
   "id": "ccb5de22-7c41-461d-91e9-0dc275a05af6",
   "metadata": {},
   "source": [
    "This is something we might do often, and for other categories too, so it makes sense to have a function for it.\n",
    "\n",
    "It also makes sense to have that function in our products module, because it can be reused across programs and analysis notebooks, by different people.\n",
    "\n",
    "Let's add the following function to our `products.py` module.\n",
    "\n",
    "```python\n",
    "def category_revenue(transactions, category):\n",
    "    total = sum([p for p,c in transactions])\n",
    "    cat_total = sum([p for p,c in transactions if c == category])\n",
    "    return cat_total / total * 100\n",
    "```\n",
    "\n",
    "Save the file, reload the module and check what is the **% of revenue that comes from pet transactions**."
   ]
  },
  {
   "cell_type": "code",
   "execution_count": 58,
   "id": "9a30cdea-be6f-4098-a4b1-fef5306e61e5",
   "metadata": {},
   "outputs": [
    {
     "data": {
      "text/plain": [
       "12.540757355404125"
      ]
     },
     "execution_count": 58,
     "metadata": {},
     "output_type": "execute_result"
    }
   ],
   "source": [
    "importlib.reload(products)\n",
    "\n",
    "products.category_revenue(transactions, \"pet\")"
   ]
  },
  {
   "cell_type": "markdown",
   "id": "9f0da5fc-62a2-48b5-875f-0cc4199ea21c",
   "metadata": {},
   "source": [
    "Let's do the same for all categories:"
   ]
  },
  {
   "cell_type": "code",
   "execution_count": 62,
   "id": "850b5166-53a9-4428-9cad-09c26122929a",
   "metadata": {},
   "outputs": [
    {
     "name": "stdout",
     "output_type": "stream",
     "text": [
      "12.4% of revenue from vegetable\n",
      "13.8% of revenue from fruit\n",
      "12.5% of revenue from pet\n",
      "19.8% of revenue from house\n",
      "13.8% of revenue from bread\n",
      "15.8% of revenue from cleaning\n",
      "11.9% of revenue from coffee\n"
     ]
    }
   ],
   "source": [
    "for cat in products.valid_categories:\n",
    "    print(f\"{products.category_revenue(transactions, cat) :.1f}% of revenue from {cat}\")"
   ]
  },
  {
   "cell_type": "markdown",
   "id": "e25d7658-19a8-4ff1-a1a7-7d1f987b5c6d",
   "metadata": {},
   "source": [
    "## Importing directly into the program's namespace"
   ]
  },
  {
   "cell_type": "markdown",
   "id": "5ad003e2-d85c-4439-abee-a2fef79f6f53",
   "metadata": {},
   "source": [
    "We can also import a module's functions, classes and variables directly into our notebook/program, without having to type the module's name.\n",
    "\n",
    "To test this:\n",
    "1. **restart the kernel (Kernel > Restart kernel...)**\n",
    "2. go back and **rerun the cell for creating fake data (and only that one)**\n",
    "3. run the following cells"
   ]
  },
  {
   "cell_type": "code",
   "execution_count": 64,
   "id": "bfaf676f-9e1a-4115-a9b5-8cddc04feb0a",
   "metadata": {},
   "outputs": [],
   "source": [
    "from products import category_revenue"
   ]
  },
  {
   "cell_type": "code",
   "execution_count": 67,
   "id": "eff5efd5-c8dd-4b52-80cb-f749eac9f0af",
   "metadata": {},
   "outputs": [
    {
     "data": {
      "text/plain": [
       "10.677846521220014"
      ]
     },
     "execution_count": 67,
     "metadata": {},
     "output_type": "execute_result"
    }
   ],
   "source": [
    "category_revenue(transactions, \"pet\")"
   ]
  },
  {
   "cell_type": "markdown",
   "id": "a8779212-29fd-41db-b6ff-29753c59adcf",
   "metadata": {},
   "source": [
    "This way, we can use the function directly by its name, without writing the module's name."
   ]
  },
  {
   "cell_type": "markdown",
   "id": "60512761-7464-4558-86d4-e436f387dc63",
   "metadata": {},
   "source": [
    "We can also import the module, but give it a different name. This is usually useful when a module's name is long or is very frequently used."
   ]
  },
  {
   "cell_type": "code",
   "execution_count": 68,
   "id": "87dcea6b-ba7e-4059-b4d8-d8045252ca69",
   "metadata": {},
   "outputs": [],
   "source": [
    "import products as prod"
   ]
  },
  {
   "cell_type": "code",
   "execution_count": 69,
   "id": "7439e1ba-bdee-4079-9249-e9016bdfc09d",
   "metadata": {},
   "outputs": [
    {
     "data": {
      "text/plain": [
       "10.677846521220014"
      ]
     },
     "execution_count": 69,
     "metadata": {},
     "output_type": "execute_result"
    }
   ],
   "source": [
    "category_revenue(transactions, \"pet\")"
   ]
  },
  {
   "cell_type": "markdown",
   "id": "367675b2-2133-4bfe-9245-df4da30b607f",
   "metadata": {},
   "source": [
    "That's why pandas is often imported as pd and numpy as np.\n",
    "\n",
    "```python\n",
    "import pandas as pd\n",
    "import numpy as np\n",
    "```"
   ]
  },
  {
   "cell_type": "markdown",
   "id": "eab28c72-3428-4f08-8b7a-70d8739c95de",
   "metadata": {},
   "source": [
    "# Python packages"
   ]
  },
  {
   "cell_type": "markdown",
   "id": "dc1475d9-3ba6-49a4-a245-ab06fa90c840",
   "metadata": {},
   "source": [
    "## Creating"
   ]
  },
  {
   "cell_type": "markdown",
   "id": "df53bc4f-f709-4e0f-b05b-778c2966cb35",
   "metadata": {},
   "source": [
    "As we grow our modules in size and number, we might want to group them as well. We can do that with packages.\n",
    "\n",
    "Let's say we want to group all our modules in a single package with the name of the company `RetailXY`.\n",
    "\n",
    "1. Create a folder named `retailxy`, in the same directory as this notebook.\n",
    "2. Inside that folder, create a file names `__init__.py`.\n",
    "3. Save it and leave it blank.\n",
    "4. Move the `products.py` module inside the `retailxy` folder.\n",
    "5. Restart the kernel.\n",
    "6. Execute the following cells.\n"
   ]
  },
  {
   "cell_type": "markdown",
   "id": "6c89368c-2db5-4fc5-b4b9-f2557e84d9e4",
   "metadata": {},
   "source": [
    "## Importing "
   ]
  },
  {
   "cell_type": "code",
   "execution_count": 1,
   "id": "9e4d0711-5f6b-490e-9c8d-755cd9e0407a",
   "metadata": {},
   "outputs": [],
   "source": [
    "import retailxy"
   ]
  },
  {
   "cell_type": "code",
   "execution_count": 2,
   "id": "e09b080a-5e9b-408d-8e4d-ebfd7301c4d0",
   "metadata": {},
   "outputs": [
    {
     "ename": "AttributeError",
     "evalue": "module 'retailxy' has no attribute 'products'",
     "output_type": "error",
     "traceback": [
      "\u001b[1;31m----------------------------------------------------\u001b[0m",
      "\u001b[1;31mAttributeError\u001b[0m     Traceback (most recent call last)",
      "\u001b[1;32m~\\AppData\\Local\\Temp\\ipykernel_25192\\2786897904.py\u001b[0m in \u001b[0;36m<module>\u001b[1;34m\u001b[0m\n\u001b[1;32m----> 1\u001b[1;33m \u001b[0mretailxy\u001b[0m\u001b[1;33m.\u001b[0m\u001b[0mproducts\u001b[0m\u001b[1;33m\u001b[0m\u001b[1;33m\u001b[0m\u001b[0m\n\u001b[0m",
      "\u001b[1;31mAttributeError\u001b[0m: module 'retailxy' has no attribute 'products'"
     ]
    }
   ],
   "source": [
    "retailxy.products"
   ]
  },
  {
   "cell_type": "code",
   "execution_count": 4,
   "id": "6e7f00e5-117b-40fd-b726-d1643e19a3bc",
   "metadata": {},
   "outputs": [],
   "source": [
    "import retailxy.products"
   ]
  },
  {
   "cell_type": "markdown",
   "id": "96e64694-5391-412e-af69-b46b4a5de626",
   "metadata": {},
   "source": [
    "- As you can see, after importing just `retailxy`, we can't access products directly.\n",
    "- We need to explicitly import the `products` module within the `retailxy` package.\n",
    "- We don't need to import just `retailxy` before importing `retailxy.products`.\n",
    "\n",
    "There are ways to change this behaviourm by what you've learned so far is enough for allowing a good organization of modules."
   ]
  },
  {
   "cell_type": "markdown",
   "id": "6a5f4986-1277-4981-8e06-b21cb5f4c31e",
   "metadata": {},
   "source": [
    "## Test with practical example"
   ]
  },
  {
   "cell_type": "code",
   "execution_count": 5,
   "id": "6c384c15-29bc-4620-ba1b-56b7a64ebb33",
   "metadata": {},
   "outputs": [],
   "source": [
    "import random\n",
    "\n",
    "# transactions\n",
    "n_transactions = 200\n",
    "min_price, max_price = 2, 50\n",
    "transaction_prices = [round(random.random() * random.randint(min_price,max_price), 2)\n",
    "                      for i in range(n_transactions)]\n",
    "transaction_categories = random.choices(retailxy.products.valid_categories, k=n_transactions)\n",
    "transactions = list(zip(transaction_prices, transaction_categories))"
   ]
  },
  {
   "cell_type": "code",
   "execution_count": 6,
   "id": "df15d716-c657-47b0-af11-28389fa85852",
   "metadata": {},
   "outputs": [
    {
     "data": {
      "text/plain": [
       "11.26611887482757"
      ]
     },
     "execution_count": 6,
     "metadata": {},
     "output_type": "execute_result"
    }
   ],
   "source": [
    "retailxy.products.category_revenue(transactions, \"pet\")"
   ]
  },
  {
   "cell_type": "markdown",
   "id": "6a9c2738-fbc2-429c-a272-622542cfb1a4",
   "metadata": {},
   "source": [
    "\n",
    "We could also add more packages inside our `retailxy` package, e.g.\n",
    "\n",
    "```text\n",
    "retailxy/\n",
    " |- __init__.py\n",
    " |- products.py\n",
    " |\n",
    " |- marketing/\n",
    " |    |- __init__.py\n",
    " |    |- discounts.py\n",
    " |    |- promotions.py\n",
    " |\n",
    " |- logistics/\n",
    " |    |- __init__.py\n",
    " |    |- fleet.py\n",
    " |    |- inventory.py\n",
    " |\n",
    " | data_science/\n",
    " |    |- __init__.py\n",
    " |    |- forecasts.py\n",
    " |    |- segmentation.py\n",
    "```"
   ]
  }
 ],
 "metadata": {
  "kernelspec": {
   "display_name": "Python 3 (ipykernel)",
   "language": "python",
   "name": "python3"
  },
  "language_info": {
   "codemirror_mode": {
    "name": "ipython",
    "version": 3
   },
   "file_extension": ".py",
   "mimetype": "text/x-python",
   "name": "python",
   "nbconvert_exporter": "python",
   "pygments_lexer": "ipython3",
   "version": "3.9.13"
  }
 },
 "nbformat": 4,
 "nbformat_minor": 5
}
