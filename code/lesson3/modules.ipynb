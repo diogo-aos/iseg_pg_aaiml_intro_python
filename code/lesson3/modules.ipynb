{
 "cells": [
  {
   "cell_type": "markdown",
   "id": "a7666b86-fa53-408c-86c4-ffc53fe6a1c5",
   "metadata": {},
   "source": [
    "# Python modules"
   ]
  },
  {
   "cell_type": "markdown",
   "id": "4e126499-71c6-407b-b85b-5a03664d9d6b",
   "metadata": {},
   "source": [
    "## Creating, importing"
   ]
  },
  {
   "cell_type": "markdown",
   "id": "d5d60c7f-faaf-4ab1-ad94-cfb562aa2fe6",
   "metadata": {},
   "source": [
    "We can create module by simply creating a file with the .py extension (don't use spaces in the name).\n",
    "\n",
    "Let's create a `products.py` file.\n",
    "\n",
    "⚠️⚠️ **The file must be in the same folder as the Jupyter Notebook.** ⚠️⚠️\n",
    "\n",
    "Inside, let's write a list for the valid product categories.\n",
    "\n",
    "```python\n",
    "valid_categories = [\n",
    "    \"vegetable\",\n",
    "    \"fruit\",\n",
    "    \"pet\",\n",
    "    \"house\",\n",
    "    \"bread\",\n",
    "    \"cleaning\"\n",
    "]\n",
    "```\n",
    "\n",
    "Save the file.\n",
    "\n",
    "We can now import that module into our notebook!"
   ]
  },
  {
   "cell_type": "code",
   "execution_count": null,
   "id": "33fd539a-6185-48c7-9a48-4b6eceea251f",
   "metadata": {},
   "outputs": [],
   "source": [
    "import products"
   ]
  },
  {
   "cell_type": "code",
   "execution_count": null,
   "id": "051b34ee-19c6-48c7-8204-f9f92a207c93",
   "metadata": {},
   "outputs": [],
   "source": [
    "products.valid_categories"
   ]
  },
  {
   "cell_type": "markdown",
   "id": "87dd6a83-1523-4676-9dde-b51d26606f9f",
   "metadata": {},
   "source": [
    "Let's go back to our module and add coffee to the category list:\n",
    "```python\n",
    "valid_categories = [\n",
    "    \"vegetable\",\n",
    "    \"fruit\",\n",
    "    \"pet\",\n",
    "    \"house\",\n",
    "    \"bread\",\n",
    "    \"cleaning\",\n",
    "    \"coffee\",\n",
    "]\n",
    "```\n",
    "\n",
    "Save the file.\n",
    "\n",
    "Now check again, here, the values of the valid_categories."
   ]
  },
  {
   "cell_type": "code",
   "execution_count": null,
   "id": "f7d337c4-fac3-4bc8-a3a3-f2a47deec6a4",
   "metadata": {},
   "outputs": [],
   "source": [
    "import products"
   ]
  },
  {
   "cell_type": "code",
   "execution_count": null,
   "id": "71a70fb4-85dd-47a7-a079-364038e59f1c",
   "metadata": {},
   "outputs": [],
   "source": [
    "products.valid_categories"
   ]
  },
  {
   "cell_type": "markdown",
   "id": "34ba0915-bc99-4c8a-88ce-a377591d3685",
   "metadata": {},
   "source": [
    "## Reloading"
   ]
  },
  {
   "cell_type": "markdown",
   "id": "60157a7e-57f6-42cb-a8b2-e5eb85a5f690",
   "metadata": {},
   "source": [
    "As you can see, the new category does not appear in our notebook.\n",
    "\n",
    "The change we did was after we imported the module. We can try to run `import products` again, but that won't work, because Python detects we've already imported that module, and, to save on computation, it does nothing.\n",
    "\n",
    "To fix this, we'd have to reload the Notebook kernel (Kernel > Restart Kernek...). This means losing all variables we've loaded and computations.\n",
    "\n",
    "An alternative is to use the importlib which allows us to reimport a given module. That allows us to get the updated module without restarting the kernel."
   ]
  },
  {
   "cell_type": "code",
   "execution_count": null,
   "id": "382aa631-b9bb-4a4e-89c2-fb00925547d8",
   "metadata": {},
   "outputs": [],
   "source": [
    "import importlib\n",
    "importlib.reload(products)"
   ]
  },
  {
   "cell_type": "code",
   "execution_count": null,
   "id": "dbd8c51c-913a-4fad-8605-fb31f17c4528",
   "metadata": {},
   "outputs": [],
   "source": [
    "products.valid_categories"
   ]
  },
  {
   "cell_type": "markdown",
   "id": "94273cc2-c143-456e-992c-fd838e531b4c",
   "metadata": {},
   "source": [
    "## Creating fake data"
   ]
  },
  {
   "cell_type": "markdown",
   "id": "04a95d31-6562-4c44-a06c-46820f2d7d5b",
   "metadata": {},
   "source": [
    "Let's create some made up transactions for a day."
   ]
  },
  {
   "cell_type": "code",
   "execution_count": null,
   "id": "d1529045-e004-4458-bb6c-6d00f18f8549",
   "metadata": {},
   "outputs": [],
   "source": [
    "import random\n",
    "\n",
    "# transactions\n",
    "n_transactions = 200\n",
    "min_price, max_price = 2, 50\n",
    "transaction_prices = [round(random.random() * random.randint(min_price,max_price), 2)\n",
    "                      for i in range(n_transactions)]\n",
    "transaction_categories = random.choices(products.valid_categories, k=n_transactions)\n",
    "transactions = list(zip(transaction_prices, transaction_categories))"
   ]
  },
  {
   "cell_type": "code",
   "execution_count": null,
   "id": "8f587650-3408-478e-a48c-bfaf4a9e9667",
   "metadata": {},
   "outputs": [],
   "source": [
    "# let's see part of the result\n",
    "transactions[:20]"
   ]
  },
  {
   "cell_type": "markdown",
   "id": "53e907df-5b9a-4472-be4c-00deb0c4d06f",
   "metadata": {},
   "source": [
    "## Should we have more house products?\n",
    "\n",
    "To answer this question, let's compute the percentage of revenue that comes from \"house\" transactions."
   ]
  },
  {
   "cell_type": "code",
   "execution_count": null,
   "id": "404a7100-5481-496d-bc9d-9940be9e01af",
   "metadata": {},
   "outputs": [],
   "source": [
    "day_revenue = sum([p for p,c in transactions])\n",
    "print(f\"day_revenue={day_revenue}\")\n",
    "\n",
    "house_revenue = sum([p for p,c in transactions if c == \"house\"])\n",
    "print(f\"house_revenue={house_revenue}\")\n",
    "\n",
    "house_percent = house_revenue / day_revenue * 100\n",
    "\n",
    "print(f\"{house_percent :.1f}% of revenue comes from transactions of category house\")"
   ]
  },
  {
   "cell_type": "markdown",
   "id": "ccb5de22-7c41-461d-91e9-0dc275a05af6",
   "metadata": {},
   "source": [
    "This is something we might do often, and for other categories too, so it makes sense to have a function for it.\n",
    "\n",
    "It also makes sense to have that function in our products module, because it can be reused across programs and analysis notebooks, by different people.\n",
    "\n",
    "Let's add the following function to our `products.py` module.\n",
    "\n",
    "```python\n",
    "def category_revenue(transactions, category):\n",
    "    total = sum([p for p,c in transactions])\n",
    "    cat_total = sum([p for p,c in transactions if c == category])\n",
    "    return cat_total / total * 100\n",
    "```\n",
    "\n",
    "Save the file, reload the module and check what is the **% of revenue that comes from pet transactions**."
   ]
  },
  {
   "cell_type": "code",
   "execution_count": null,
   "id": "9a30cdea-be6f-4098-a4b1-fef5306e61e5",
   "metadata": {},
   "outputs": [],
   "source": [
    "importlib.reload(products)\n",
    "\n",
    "products.category_revenue(transactions, \"pet\")"
   ]
  },
  {
   "cell_type": "markdown",
   "id": "9f0da5fc-62a2-48b5-875f-0cc4199ea21c",
   "metadata": {},
   "source": [
    "Let's do the same for all categories:"
   ]
  },
  {
   "cell_type": "code",
   "execution_count": null,
   "id": "850b5166-53a9-4428-9cad-09c26122929a",
   "metadata": {},
   "outputs": [],
   "source": [
    "for cat in products.valid_categories:\n",
    "    print(f\"{products.category_revenue(transactions, cat) :.1f}% of revenue from {cat}\")"
   ]
  },
  {
   "cell_type": "markdown",
   "id": "e25d7658-19a8-4ff1-a1a7-7d1f987b5c6d",
   "metadata": {},
   "source": [
    "## Importing directly into the program's namespace"
   ]
  },
  {
   "cell_type": "markdown",
   "id": "5ad003e2-d85c-4439-abee-a2fef79f6f53",
   "metadata": {},
   "source": [
    "We can also import a module's functions, classes and variables directly into our notebook/program, without having to type the module's name.\n",
    "\n",
    "To test this:\n",
    "1. **restart the kernel (Kernel > Restart kernel...)**\n",
    "2. go back and **rerun the cell for creating fake data (and only that one)**\n",
    "3. run the following cells"
   ]
  },
  {
   "cell_type": "code",
   "execution_count": null,
   "id": "60243854-6c1e-43c3-abb6-ef51479f2c3b",
   "metadata": {},
   "outputs": [],
   "source": [
    "ls"
   ]
  },
  {
   "cell_type": "code",
   "execution_count": null,
   "id": "adbd048c-cd7e-40e0-8ca2-79c5f0dadeb9",
   "metadata": {},
   "outputs": [],
   "source": [
    "from products import *"
   ]
  },
  {
   "cell_type": "code",
   "execution_count": null,
   "id": "f0ce1d99-1540-4abd-a68c-33d3adf0e6ea",
   "metadata": {},
   "outputs": [],
   "source": [
    "valid_categories"
   ]
  },
  {
   "cell_type": "code",
   "execution_count": null,
   "id": "bfaf676f-9e1a-4115-a9b5-8cddc04feb0a",
   "metadata": {},
   "outputs": [],
   "source": [
    "from products import category_revenue"
   ]
  },
  {
   "cell_type": "code",
   "execution_count": null,
   "id": "eff5efd5-c8dd-4b52-80cb-f749eac9f0af",
   "metadata": {},
   "outputs": [],
   "source": [
    "category_revenue(transactions, \"pet\")"
   ]
  },
  {
   "cell_type": "markdown",
   "id": "a8779212-29fd-41db-b6ff-29753c59adcf",
   "metadata": {},
   "source": [
    "This way, we can use the function directly by its name, without writing the module's name."
   ]
  },
  {
   "cell_type": "markdown",
   "id": "60512761-7464-4558-86d4-e436f387dc63",
   "metadata": {},
   "source": [
    "We can also import the module, but give it a different name. This is usually useful when a module's name is long or is very frequently used."
   ]
  },
  {
   "cell_type": "code",
   "execution_count": null,
   "id": "87dcea6b-ba7e-4059-b4d8-d8045252ca69",
   "metadata": {},
   "outputs": [],
   "source": [
    "import products as prod"
   ]
  },
  {
   "cell_type": "code",
   "execution_count": null,
   "id": "7439e1ba-bdee-4079-9249-e9016bdfc09d",
   "metadata": {},
   "outputs": [],
   "source": [
    "prod.category_revenue(transactions, \"pet\")"
   ]
  },
  {
   "cell_type": "markdown",
   "id": "367675b2-2133-4bfe-9245-df4da30b607f",
   "metadata": {},
   "source": [
    "That's why pandas is often imported as pd and numpy as np.\n",
    "\n",
    "```python\n",
    "import pandas as pd\n",
    "import numpy as np\n",
    "```"
   ]
  },
  {
   "cell_type": "markdown",
   "id": "eab28c72-3428-4f08-8b7a-70d8739c95de",
   "metadata": {},
   "source": [
    "# Python packages"
   ]
  },
  {
   "cell_type": "markdown",
   "id": "dc1475d9-3ba6-49a4-a245-ab06fa90c840",
   "metadata": {},
   "source": [
    "## Creating"
   ]
  },
  {
   "cell_type": "markdown",
   "id": "df53bc4f-f709-4e0f-b05b-778c2966cb35",
   "metadata": {},
   "source": [
    "As we grow our modules in size and number, we might want to group them as well. We can do that with packages.\n",
    "\n",
    "Let's say we want to group all our modules in a single package with the name of the company `RetailXY`.\n",
    "\n",
    "1. Create a folder named `retailxy`, in the same directory as this notebook.\n",
    "2. Inside that folder, create a file names `__init__.py`.\n",
    "3. Save it and leave it blank.\n",
    "4. Move the `products.py` module inside the `retailxy` folder.\n",
    "5. Restart the kernel.\n",
    "6. Execute the following cells.\n"
   ]
  },
  {
   "cell_type": "markdown",
   "id": "6c89368c-2db5-4fc5-b4b9-f2557e84d9e4",
   "metadata": {},
   "source": [
    "## Importing "
   ]
  },
  {
   "cell_type": "code",
   "execution_count": null,
   "id": "9e4d0711-5f6b-490e-9c8d-755cd9e0407a",
   "metadata": {},
   "outputs": [],
   "source": [
    "import retailxy"
   ]
  },
  {
   "cell_type": "code",
   "execution_count": null,
   "id": "e09b080a-5e9b-408d-8e4d-ebfd7301c4d0",
   "metadata": {},
   "outputs": [],
   "source": [
    "retailxy.products"
   ]
  },
  {
   "cell_type": "code",
   "execution_count": null,
   "id": "6e7f00e5-117b-40fd-b726-d1643e19a3bc",
   "metadata": {},
   "outputs": [],
   "source": [
    "import retailxy.products"
   ]
  },
  {
   "cell_type": "code",
   "execution_count": null,
   "id": "8e18ff6f-18d9-4602-a30a-710d148c5085",
   "metadata": {},
   "outputs": [],
   "source": [
    "retailxy.products.valid_categories"
   ]
  },
  {
   "cell_type": "markdown",
   "id": "96e64694-5391-412e-af69-b46b4a5de626",
   "metadata": {},
   "source": [
    "- As you can see, after importing just `retailxy`, we can't access products directly.\n",
    "- We need to explicitly import the `products` module within the `retailxy` package.\n",
    "- We don't need to import just `retailxy` before importing `retailxy.products`.\n",
    "\n",
    "There are ways to change this behaviourm by what you've learned so far is enough for allowing a good organization of modules."
   ]
  },
  {
   "cell_type": "markdown",
   "id": "6a5f4986-1277-4981-8e06-b21cb5f4c31e",
   "metadata": {},
   "source": [
    "## Test with practical example"
   ]
  },
  {
   "cell_type": "code",
   "execution_count": null,
   "id": "6c384c15-29bc-4620-ba1b-56b7a64ebb33",
   "metadata": {},
   "outputs": [],
   "source": [
    "import random\n",
    "\n",
    "# transactions\n",
    "n_transactions = 200\n",
    "min_price, max_price = 2, 50\n",
    "transaction_prices = [round(random.random() * random.randint(min_price,max_price), 2)\n",
    "                      for i in range(n_transactions)]\n",
    "transaction_categories = random.choices(retailxy.products.valid_categories, k=n_transactions)\n",
    "transactions = list(zip(transaction_prices, transaction_categories))"
   ]
  },
  {
   "cell_type": "code",
   "execution_count": null,
   "id": "df15d716-c657-47b0-af11-28389fa85852",
   "metadata": {},
   "outputs": [],
   "source": [
    "retailxy.products.category_revenue(transactions, \"pet\")"
   ]
  },
  {
   "cell_type": "code",
   "execution_count": null,
   "id": "a2d4df68-5b92-4d92-aa3c-c1b0b8738fbb",
   "metadata": {},
   "outputs": [],
   "source": [
    "!python --version"
   ]
  },
  {
   "cell_type": "markdown",
   "id": "6a9c2738-fbc2-429c-a272-622542cfb1a4",
   "metadata": {},
   "source": [
    "\n",
    "We could also add more packages inside our `retailxy` package, e.g.\n",
    "\n",
    "```text\n",
    "retailxy/\n",
    " |- __init__.py\n",
    " |- products.py\n",
    " |\n",
    " |- marketing/\n",
    " |    |- __init__.py\n",
    " |    |- discounts.py\n",
    " |    |- promotions.py\n",
    " |\n",
    " |- logistics/\n",
    " |    |- __init__.py\n",
    " |    |- fleet.py\n",
    " |    |- inventory.py\n",
    " |\n",
    " | data_science/\n",
    " |    |- __init__.py\n",
    " |    |- forecasts.py\n",
    " |    |- segmentation.py\n",
    "```"
   ]
  },
  {
   "cell_type": "markdown",
   "id": "532d91f7-4598-49c9-960c-2192a602a4bc",
   "metadata": {},
   "source": [
    "# Type hints"
   ]
  },
  {
   "cell_type": "code",
   "execution_count": null,
   "id": "10ab8ce0-b697-483d-98e0-4519b4844220",
   "metadata": {},
   "outputs": [],
   "source": [
    "def sum_2(a: int) -> int:\n",
    "    b = a + 2\n",
    "    return b"
   ]
  },
  {
   "cell_type": "code",
   "execution_count": null,
   "id": "cce69a94-9898-4be5-b9ed-8bbc43b5177c",
   "metadata": {},
   "outputs": [],
   "source": []
  },
  {
   "cell_type": "code",
   "execution_count": null,
   "id": "1ea107bf-75ec-4b89-ae76-165aced13945",
   "metadata": {},
   "outputs": [],
   "source": [
    "import os.path"
   ]
  },
  {
   "cell_type": "code",
   "execution_count": null,
   "id": "6aad5578-bac3-4081-81e1-c4320869c8b6",
   "metadata": {},
   "outputs": [],
   "source": [
    "os.path.exists(\"retailxy\")"
   ]
  },
  {
   "cell_type": "code",
   "execution_count": null,
   "id": "f1927b33-3c33-49cb-93e6-f9fb1bcaee4a",
   "metadata": {},
   "outputs": [],
   "source": []
  }
 ],
 "metadata": {
  "kernelspec": {
   "display_name": "Python 3 (ipykernel)",
   "language": "python",
   "name": "python3"
  },
  "language_info": {
   "codemirror_mode": {
    "name": "ipython",
    "version": 3
   },
   "file_extension": ".py",
   "mimetype": "text/x-python",
   "name": "python",
   "nbconvert_exporter": "python",
   "pygments_lexer": "ipython3",
   "version": "3.9.13"
  }
 },
 "nbformat": 4,
 "nbformat_minor": 5
}
